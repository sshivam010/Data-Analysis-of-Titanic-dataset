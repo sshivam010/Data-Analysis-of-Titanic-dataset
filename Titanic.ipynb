{
 "cells": [
  {
   "cell_type": "code",
   "execution_count": 1,
   "metadata": {},
   "outputs": [],
   "source": [
    "import numpy as np\n",
    "import pandas as pd\n",
    "import matplotlib.pyplot as plt\n",
    "%matplotlib inline"
   ]
  },
  {
   "cell_type": "code",
   "execution_count": 2,
   "metadata": {},
   "outputs": [],
   "source": [
    "import seaborn as sns\n",
    "sns.set(color_codes=True)\n",
    "sns.set_style(\"whitegrid\")"
   ]
  },
  {
   "cell_type": "code",
   "execution_count": 3,
   "metadata": {},
   "outputs": [
    {
     "data": {
      "text/html": [
       "<div>\n",
       "<style scoped>\n",
       "    .dataframe tbody tr th:only-of-type {\n",
       "        vertical-align: middle;\n",
       "    }\n",
       "\n",
       "    .dataframe tbody tr th {\n",
       "        vertical-align: top;\n",
       "    }\n",
       "\n",
       "    .dataframe thead th {\n",
       "        text-align: right;\n",
       "    }\n",
       "</style>\n",
       "<table border=\"1\" class=\"dataframe\">\n",
       "  <thead>\n",
       "    <tr style=\"text-align: right;\">\n",
       "      <th></th>\n",
       "      <th>PassengerId</th>\n",
       "      <th>Survived</th>\n",
       "      <th>Pclass</th>\n",
       "      <th>Name</th>\n",
       "      <th>Sex</th>\n",
       "      <th>Age</th>\n",
       "      <th>SibSp</th>\n",
       "      <th>Parch</th>\n",
       "      <th>Ticket</th>\n",
       "      <th>Fare</th>\n",
       "      <th>Cabin</th>\n",
       "      <th>Embarked</th>\n",
       "    </tr>\n",
       "  </thead>\n",
       "  <tbody>\n",
       "    <tr>\n",
       "      <th>0</th>\n",
       "      <td>1</td>\n",
       "      <td>0</td>\n",
       "      <td>3</td>\n",
       "      <td>Braund, Mr. Owen Harris</td>\n",
       "      <td>male</td>\n",
       "      <td>22.0</td>\n",
       "      <td>1</td>\n",
       "      <td>0</td>\n",
       "      <td>A/5 21171</td>\n",
       "      <td>7.2500</td>\n",
       "      <td>NaN</td>\n",
       "      <td>S</td>\n",
       "    </tr>\n",
       "    <tr>\n",
       "      <th>1</th>\n",
       "      <td>2</td>\n",
       "      <td>1</td>\n",
       "      <td>1</td>\n",
       "      <td>Cumings, Mrs. John Bradley (Florence Briggs Th...</td>\n",
       "      <td>female</td>\n",
       "      <td>38.0</td>\n",
       "      <td>1</td>\n",
       "      <td>0</td>\n",
       "      <td>PC 17599</td>\n",
       "      <td>71.2833</td>\n",
       "      <td>C85</td>\n",
       "      <td>C</td>\n",
       "    </tr>\n",
       "    <tr>\n",
       "      <th>2</th>\n",
       "      <td>3</td>\n",
       "      <td>1</td>\n",
       "      <td>3</td>\n",
       "      <td>Heikkinen, Miss. Laina</td>\n",
       "      <td>female</td>\n",
       "      <td>26.0</td>\n",
       "      <td>0</td>\n",
       "      <td>0</td>\n",
       "      <td>STON/O2. 3101282</td>\n",
       "      <td>7.9250</td>\n",
       "      <td>NaN</td>\n",
       "      <td>S</td>\n",
       "    </tr>\n",
       "    <tr>\n",
       "      <th>3</th>\n",
       "      <td>4</td>\n",
       "      <td>1</td>\n",
       "      <td>1</td>\n",
       "      <td>Futrelle, Mrs. Jacques Heath (Lily May Peel)</td>\n",
       "      <td>female</td>\n",
       "      <td>35.0</td>\n",
       "      <td>1</td>\n",
       "      <td>0</td>\n",
       "      <td>113803</td>\n",
       "      <td>53.1000</td>\n",
       "      <td>C123</td>\n",
       "      <td>S</td>\n",
       "    </tr>\n",
       "    <tr>\n",
       "      <th>4</th>\n",
       "      <td>5</td>\n",
       "      <td>0</td>\n",
       "      <td>3</td>\n",
       "      <td>Allen, Mr. William Henry</td>\n",
       "      <td>male</td>\n",
       "      <td>35.0</td>\n",
       "      <td>0</td>\n",
       "      <td>0</td>\n",
       "      <td>373450</td>\n",
       "      <td>8.0500</td>\n",
       "      <td>NaN</td>\n",
       "      <td>S</td>\n",
       "    </tr>\n",
       "  </tbody>\n",
       "</table>\n",
       "</div>"
      ],
      "text/plain": [
       "   PassengerId  Survived  Pclass  \\\n",
       "0            1         0       3   \n",
       "1            2         1       1   \n",
       "2            3         1       3   \n",
       "3            4         1       1   \n",
       "4            5         0       3   \n",
       "\n",
       "                                                Name     Sex   Age  SibSp  \\\n",
       "0                            Braund, Mr. Owen Harris    male  22.0      1   \n",
       "1  Cumings, Mrs. John Bradley (Florence Briggs Th...  female  38.0      1   \n",
       "2                             Heikkinen, Miss. Laina  female  26.0      0   \n",
       "3       Futrelle, Mrs. Jacques Heath (Lily May Peel)  female  35.0      1   \n",
       "4                           Allen, Mr. William Henry    male  35.0      0   \n",
       "\n",
       "   Parch            Ticket     Fare Cabin Embarked  \n",
       "0      0         A/5 21171   7.2500   NaN        S  \n",
       "1      0          PC 17599  71.2833   C85        C  \n",
       "2      0  STON/O2. 3101282   7.9250   NaN        S  \n",
       "3      0            113803  53.1000  C123        S  \n",
       "4      0            373450   8.0500   NaN        S  "
      ]
     },
     "execution_count": 3,
     "metadata": {},
     "output_type": "execute_result"
    }
   ],
   "source": [
    "titanic = pd.read_csv('titanic_data.csv', header = 0)\n",
    "titanic.head()"
   ]
  },
  {
   "cell_type": "code",
   "execution_count": 4,
   "metadata": {},
   "outputs": [
    {
     "data": {
      "text/html": [
       "<div>\n",
       "<style scoped>\n",
       "    .dataframe tbody tr th:only-of-type {\n",
       "        vertical-align: middle;\n",
       "    }\n",
       "\n",
       "    .dataframe tbody tr th {\n",
       "        vertical-align: top;\n",
       "    }\n",
       "\n",
       "    .dataframe thead th {\n",
       "        text-align: right;\n",
       "    }\n",
       "</style>\n",
       "<table border=\"1\" class=\"dataframe\">\n",
       "  <thead>\n",
       "    <tr style=\"text-align: right;\">\n",
       "      <th></th>\n",
       "      <th>PassengerId</th>\n",
       "      <th>Survived</th>\n",
       "      <th>Pclass</th>\n",
       "      <th>Age</th>\n",
       "      <th>SibSp</th>\n",
       "      <th>Parch</th>\n",
       "      <th>Fare</th>\n",
       "    </tr>\n",
       "  </thead>\n",
       "  <tbody>\n",
       "    <tr>\n",
       "      <th>count</th>\n",
       "      <td>891.000000</td>\n",
       "      <td>891.000000</td>\n",
       "      <td>891.000000</td>\n",
       "      <td>714.000000</td>\n",
       "      <td>891.000000</td>\n",
       "      <td>891.000000</td>\n",
       "      <td>891.000000</td>\n",
       "    </tr>\n",
       "    <tr>\n",
       "      <th>mean</th>\n",
       "      <td>446.000000</td>\n",
       "      <td>0.383838</td>\n",
       "      <td>2.308642</td>\n",
       "      <td>29.699118</td>\n",
       "      <td>0.523008</td>\n",
       "      <td>0.381594</td>\n",
       "      <td>32.204208</td>\n",
       "    </tr>\n",
       "    <tr>\n",
       "      <th>std</th>\n",
       "      <td>257.353842</td>\n",
       "      <td>0.486592</td>\n",
       "      <td>0.836071</td>\n",
       "      <td>14.526497</td>\n",
       "      <td>1.102743</td>\n",
       "      <td>0.806057</td>\n",
       "      <td>49.693429</td>\n",
       "    </tr>\n",
       "    <tr>\n",
       "      <th>min</th>\n",
       "      <td>1.000000</td>\n",
       "      <td>0.000000</td>\n",
       "      <td>1.000000</td>\n",
       "      <td>0.420000</td>\n",
       "      <td>0.000000</td>\n",
       "      <td>0.000000</td>\n",
       "      <td>0.000000</td>\n",
       "    </tr>\n",
       "    <tr>\n",
       "      <th>25%</th>\n",
       "      <td>223.500000</td>\n",
       "      <td>0.000000</td>\n",
       "      <td>2.000000</td>\n",
       "      <td>20.125000</td>\n",
       "      <td>0.000000</td>\n",
       "      <td>0.000000</td>\n",
       "      <td>7.910400</td>\n",
       "    </tr>\n",
       "    <tr>\n",
       "      <th>50%</th>\n",
       "      <td>446.000000</td>\n",
       "      <td>0.000000</td>\n",
       "      <td>3.000000</td>\n",
       "      <td>28.000000</td>\n",
       "      <td>0.000000</td>\n",
       "      <td>0.000000</td>\n",
       "      <td>14.454200</td>\n",
       "    </tr>\n",
       "    <tr>\n",
       "      <th>75%</th>\n",
       "      <td>668.500000</td>\n",
       "      <td>1.000000</td>\n",
       "      <td>3.000000</td>\n",
       "      <td>38.000000</td>\n",
       "      <td>1.000000</td>\n",
       "      <td>0.000000</td>\n",
       "      <td>31.000000</td>\n",
       "    </tr>\n",
       "    <tr>\n",
       "      <th>max</th>\n",
       "      <td>891.000000</td>\n",
       "      <td>1.000000</td>\n",
       "      <td>3.000000</td>\n",
       "      <td>80.000000</td>\n",
       "      <td>8.000000</td>\n",
       "      <td>6.000000</td>\n",
       "      <td>512.329200</td>\n",
       "    </tr>\n",
       "  </tbody>\n",
       "</table>\n",
       "</div>"
      ],
      "text/plain": [
       "       PassengerId    Survived      Pclass         Age       SibSp  \\\n",
       "count   891.000000  891.000000  891.000000  714.000000  891.000000   \n",
       "mean    446.000000    0.383838    2.308642   29.699118    0.523008   \n",
       "std     257.353842    0.486592    0.836071   14.526497    1.102743   \n",
       "min       1.000000    0.000000    1.000000    0.420000    0.000000   \n",
       "25%     223.500000    0.000000    2.000000   20.125000    0.000000   \n",
       "50%     446.000000    0.000000    3.000000   28.000000    0.000000   \n",
       "75%     668.500000    1.000000    3.000000   38.000000    1.000000   \n",
       "max     891.000000    1.000000    3.000000   80.000000    8.000000   \n",
       "\n",
       "            Parch        Fare  \n",
       "count  891.000000  891.000000  \n",
       "mean     0.381594   32.204208  \n",
       "std      0.806057   49.693429  \n",
       "min      0.000000    0.000000  \n",
       "25%      0.000000    7.910400  \n",
       "50%      0.000000   14.454200  \n",
       "75%      0.000000   31.000000  \n",
       "max      6.000000  512.329200  "
      ]
     },
     "execution_count": 4,
     "metadata": {},
     "output_type": "execute_result"
    }
   ],
   "source": [
    "titanic.describe()"
   ]
  },
  {
   "cell_type": "markdown",
   "metadata": {},
   "source": [
    " As we can see , the column Age has some missing values. We can fix that by assuming them as the average age of the passengers.\n",
    "Also , the column 'Sex' can be of some significance but since its of datatype string we can't use it , so we shall convert it into numerical data so that it can be used in computations."
   ]
  },
  {
   "cell_type": "code",
   "execution_count": 5,
   "metadata": {},
   "outputs": [],
   "source": [
    "titanic['Age'] = titanic['Age'].fillna(titanic['Age'].mean())"
   ]
  },
  {
   "cell_type": "code",
   "execution_count": 6,
   "metadata": {},
   "outputs": [
    {
     "data": {
      "text/html": [
       "<div>\n",
       "<style scoped>\n",
       "    .dataframe tbody tr th:only-of-type {\n",
       "        vertical-align: middle;\n",
       "    }\n",
       "\n",
       "    .dataframe tbody tr th {\n",
       "        vertical-align: top;\n",
       "    }\n",
       "\n",
       "    .dataframe thead th {\n",
       "        text-align: right;\n",
       "    }\n",
       "</style>\n",
       "<table border=\"1\" class=\"dataframe\">\n",
       "  <thead>\n",
       "    <tr style=\"text-align: right;\">\n",
       "      <th></th>\n",
       "      <th>PassengerId</th>\n",
       "      <th>Survived</th>\n",
       "      <th>Pclass</th>\n",
       "      <th>Age</th>\n",
       "      <th>SibSp</th>\n",
       "      <th>Parch</th>\n",
       "      <th>Fare</th>\n",
       "    </tr>\n",
       "  </thead>\n",
       "  <tbody>\n",
       "    <tr>\n",
       "      <th>count</th>\n",
       "      <td>891.000000</td>\n",
       "      <td>891.000000</td>\n",
       "      <td>891.000000</td>\n",
       "      <td>891.000000</td>\n",
       "      <td>891.000000</td>\n",
       "      <td>891.000000</td>\n",
       "      <td>891.000000</td>\n",
       "    </tr>\n",
       "    <tr>\n",
       "      <th>mean</th>\n",
       "      <td>446.000000</td>\n",
       "      <td>0.383838</td>\n",
       "      <td>2.308642</td>\n",
       "      <td>29.699118</td>\n",
       "      <td>0.523008</td>\n",
       "      <td>0.381594</td>\n",
       "      <td>32.204208</td>\n",
       "    </tr>\n",
       "    <tr>\n",
       "      <th>std</th>\n",
       "      <td>257.353842</td>\n",
       "      <td>0.486592</td>\n",
       "      <td>0.836071</td>\n",
       "      <td>13.002015</td>\n",
       "      <td>1.102743</td>\n",
       "      <td>0.806057</td>\n",
       "      <td>49.693429</td>\n",
       "    </tr>\n",
       "    <tr>\n",
       "      <th>min</th>\n",
       "      <td>1.000000</td>\n",
       "      <td>0.000000</td>\n",
       "      <td>1.000000</td>\n",
       "      <td>0.420000</td>\n",
       "      <td>0.000000</td>\n",
       "      <td>0.000000</td>\n",
       "      <td>0.000000</td>\n",
       "    </tr>\n",
       "    <tr>\n",
       "      <th>25%</th>\n",
       "      <td>223.500000</td>\n",
       "      <td>0.000000</td>\n",
       "      <td>2.000000</td>\n",
       "      <td>22.000000</td>\n",
       "      <td>0.000000</td>\n",
       "      <td>0.000000</td>\n",
       "      <td>7.910400</td>\n",
       "    </tr>\n",
       "    <tr>\n",
       "      <th>50%</th>\n",
       "      <td>446.000000</td>\n",
       "      <td>0.000000</td>\n",
       "      <td>3.000000</td>\n",
       "      <td>29.699118</td>\n",
       "      <td>0.000000</td>\n",
       "      <td>0.000000</td>\n",
       "      <td>14.454200</td>\n",
       "    </tr>\n",
       "    <tr>\n",
       "      <th>75%</th>\n",
       "      <td>668.500000</td>\n",
       "      <td>1.000000</td>\n",
       "      <td>3.000000</td>\n",
       "      <td>35.000000</td>\n",
       "      <td>1.000000</td>\n",
       "      <td>0.000000</td>\n",
       "      <td>31.000000</td>\n",
       "    </tr>\n",
       "    <tr>\n",
       "      <th>max</th>\n",
       "      <td>891.000000</td>\n",
       "      <td>1.000000</td>\n",
       "      <td>3.000000</td>\n",
       "      <td>80.000000</td>\n",
       "      <td>8.000000</td>\n",
       "      <td>6.000000</td>\n",
       "      <td>512.329200</td>\n",
       "    </tr>\n",
       "  </tbody>\n",
       "</table>\n",
       "</div>"
      ],
      "text/plain": [
       "       PassengerId    Survived      Pclass         Age       SibSp  \\\n",
       "count   891.000000  891.000000  891.000000  891.000000  891.000000   \n",
       "mean    446.000000    0.383838    2.308642   29.699118    0.523008   \n",
       "std     257.353842    0.486592    0.836071   13.002015    1.102743   \n",
       "min       1.000000    0.000000    1.000000    0.420000    0.000000   \n",
       "25%     223.500000    0.000000    2.000000   22.000000    0.000000   \n",
       "50%     446.000000    0.000000    3.000000   29.699118    0.000000   \n",
       "75%     668.500000    1.000000    3.000000   35.000000    1.000000   \n",
       "max     891.000000    1.000000    3.000000   80.000000    8.000000   \n",
       "\n",
       "            Parch        Fare  \n",
       "count  891.000000  891.000000  \n",
       "mean     0.381594   32.204208  \n",
       "std      0.806057   49.693429  \n",
       "min      0.000000    0.000000  \n",
       "25%      0.000000    7.910400  \n",
       "50%      0.000000   14.454200  \n",
       "75%      0.000000   31.000000  \n",
       "max      6.000000  512.329200  "
      ]
     },
     "execution_count": 6,
     "metadata": {},
     "output_type": "execute_result"
    }
   ],
   "source": [
    "titanic.describe()"
   ]
  },
  {
   "cell_type": "code",
   "execution_count": 7,
   "metadata": {},
   "outputs": [
    {
     "data": {
      "image/png": "[encoded data removed]",
      "text/plain": [
       "<Figure size 432x288 with 1 Axes>"
      ]
     },
     "metadata": {},
     "output_type": "display_data"
    }
   ],
   "source": [
    "sns.countplot('Survived',data=titanic)\n",
    "plt.title('Survived')\n",
    "plt.show()"
   ]
  },
  {
   "cell_type": "markdown",
   "metadata": {},
   "source": [
    "As we can see in the above graph the number of passenger who survived are quite less than those who didn't survive."
   ]
  },
  {
   "cell_type": "code",
   "execution_count": 8,
   "metadata": {},
   "outputs": [
    {
     "data": {
      "image/png": "[encoded data removed]",
      "text/plain": [
       "<Figure size 432x288 with 1 Axes>"
      ]
     },
     "metadata": {},
     "output_type": "display_data"
    }
   ],
   "source": [
    "sns.countplot('Sex',hue='Survived',data=titanic,)\n",
    "plt.title('Sex vs Survived')\n",
    "plt.show()"
   ]
  },
  {
   "cell_type": "code",
   "execution_count": 9,
   "metadata": {},
   "outputs": [
    {
     "data": {
      "text/plain": [
       "Sex     Survived\n",
       "female  0            81\n",
       "        1           233\n",
       "male    0           468\n",
       "        1           109\n",
       "Name: Survived, dtype: int64"
      ]
     },
     "execution_count": 9,
     "metadata": {},
     "output_type": "execute_result"
    }
   ],
   "source": [
    "titanic.groupby(['Sex','Survived'])['Survived'].count()"
   ]
  },
  {
   "cell_type": "markdown",
   "metadata": {},
   "source": [
    "It is clear that 233 females survived while 109 males survived . Number of males who didn't survive is far more than number of females who didn't survive"
   ]
  },
  {
   "cell_type": "code",
   "execution_count": 10,
   "metadata": {},
   "outputs": [
    {
     "data": {
      "image/png": "[encoded data removed]",
      "text/plain": [
       "<Figure size 432x288 with 1 Axes>"
      ]
     },
     "metadata": {},
     "output_type": "display_data"
    }
   ],
   "source": [
    "sns.countplot('Pclass', hue='Survived', data=titanic)\n",
    "plt.title('Pclass vs Survived')\n",
    "plt.show()"
   ]
  },
  {
   "cell_type": "markdown",
   "metadata": {},
   "source": [
    "Looking at the above figure we can easily say that the 1st class passengers were given the highest priority during rescue , while the 3rd class passengers were given the least priority"
   ]
  },
  {
   "cell_type": "code",
   "execution_count": 11,
   "metadata": {
    "scrolled": true
   },
   "outputs": [
    {
     "data": {
      "text/html": [
       "<style  type=\"text/css\" >\n",
       "    #T_6765736c_78be_11e9_b445_ac2b6e1766e5row0_col0 {\n",
       "            background-color:  #ffff66;\n",
       "        }    #T_6765736c_78be_11e9_b445_ac2b6e1766e5row0_col1 {\n",
       "            background-color:  #ffff66;\n",
       "        }    #T_6765736c_78be_11e9_b445_ac2b6e1766e5row0_col2 {\n",
       "            background-color:  #f1f866;\n",
       "        }    #T_6765736c_78be_11e9_b445_ac2b6e1766e5row0_col3 {\n",
       "            background-color:  #ffff66;\n",
       "        }    #T_6765736c_78be_11e9_b445_ac2b6e1766e5row1_col0 {\n",
       "            background-color:  #96cb66;\n",
       "        }    #T_6765736c_78be_11e9_b445_ac2b6e1766e5row1_col1 {\n",
       "            background-color:  #a3d166;\n",
       "        }    #T_6765736c_78be_11e9_b445_ac2b6e1766e5row1_col2 {\n",
       "            background-color:  #f1f866;\n",
       "        }    #T_6765736c_78be_11e9_b445_ac2b6e1766e5row1_col3 {\n",
       "            background-color:  #cfe766;\n",
       "        }    #T_6765736c_78be_11e9_b445_ac2b6e1766e5row2_col0 {\n",
       "            background-color:  #a7d366;\n",
       "        }    #T_6765736c_78be_11e9_b445_ac2b6e1766e5row2_col1 {\n",
       "            background-color:  #85c266;\n",
       "        }    #T_6765736c_78be_11e9_b445_ac2b6e1766e5row2_col2 {\n",
       "            background-color:  #6eb666;\n",
       "        }    #T_6765736c_78be_11e9_b445_ac2b6e1766e5row2_col3 {\n",
       "            background-color:  #85c266;\n",
       "        }    #T_6765736c_78be_11e9_b445_ac2b6e1766e5row3_col0 {\n",
       "            background-color:  #cde666;\n",
       "        }    #T_6765736c_78be_11e9_b445_ac2b6e1766e5row3_col1 {\n",
       "            background-color:  #f0f866;\n",
       "        }    #T_6765736c_78be_11e9_b445_ac2b6e1766e5row3_col2 {\n",
       "            background-color:  #ffff66;\n",
       "        }    #T_6765736c_78be_11e9_b445_ac2b6e1766e5row3_col3 {\n",
       "            background-color:  #f7fb66;\n",
       "        }    #T_6765736c_78be_11e9_b445_ac2b6e1766e5row4_col0 {\n",
       "            background-color:  #008066;\n",
       "        }    #T_6765736c_78be_11e9_b445_ac2b6e1766e5row4_col1 {\n",
       "            background-color:  #008066;\n",
       "        }    #T_6765736c_78be_11e9_b445_ac2b6e1766e5row4_col2 {\n",
       "            background-color:  #008066;\n",
       "        }    #T_6765736c_78be_11e9_b445_ac2b6e1766e5row4_col3 {\n",
       "            background-color:  #008066;\n",
       "        }</style>  \n",
       "<table id=\"T_6765736c_78be_11e9_b445_ac2b6e1766e5\" > \n",
       "<thead>    <tr> \n",
       "        <th class=\"blank\" ></th> \n",
       "        <th class=\"index_name level0\" >Pclass</th> \n",
       "        <th class=\"col_heading level0 col0\" >1</th> \n",
       "        <th class=\"col_heading level0 col1\" >2</th> \n",
       "        <th class=\"col_heading level0 col2\" >3</th> \n",
       "        <th class=\"col_heading level0 col3\" >All</th> \n",
       "    </tr>    <tr> \n",
       "        <th class=\"index_name level0\" >Sex</th> \n",
       "        <th class=\"index_name level1\" >Survived</th> \n",
       "        <th class=\"blank\" ></th> \n",
       "        <th class=\"blank\" ></th> \n",
       "        <th class=\"blank\" ></th> \n",
       "        <th class=\"blank\" ></th> \n",
       "    </tr></thead> \n",
       "<tbody>    <tr> \n",
       "        <th id=\"T_6765736c_78be_11e9_b445_ac2b6e1766e5level0_row0\" class=\"row_heading level0 row0\" rowspan=2>female</th> \n",
       "        <th id=\"T_6765736c_78be_11e9_b445_ac2b6e1766e5level1_row0\" class=\"row_heading level1 row0\" >0</th> \n",
       "        <td id=\"T_6765736c_78be_11e9_b445_ac2b6e1766e5row0_col0\" class=\"data row0 col0\" >3</td> \n",
       "        <td id=\"T_6765736c_78be_11e9_b445_ac2b6e1766e5row0_col1\" class=\"data row0 col1\" >6</td> \n",
       "        <td id=\"T_6765736c_78be_11e9_b445_ac2b6e1766e5row0_col2\" class=\"data row0 col2\" >72</td> \n",
       "        <td id=\"T_6765736c_78be_11e9_b445_ac2b6e1766e5row0_col3\" class=\"data row0 col3\" >81</td> \n",
       "    </tr>    <tr> \n",
       "        <th id=\"T_6765736c_78be_11e9_b445_ac2b6e1766e5level1_row1\" class=\"row_heading level1 row1\" >1</th> \n",
       "        <td id=\"T_6765736c_78be_11e9_b445_ac2b6e1766e5row1_col0\" class=\"data row1 col0\" >91</td> \n",
       "        <td id=\"T_6765736c_78be_11e9_b445_ac2b6e1766e5row1_col1\" class=\"data row1 col1\" >70</td> \n",
       "        <td id=\"T_6765736c_78be_11e9_b445_ac2b6e1766e5row1_col2\" class=\"data row1 col2\" >72</td> \n",
       "        <td id=\"T_6765736c_78be_11e9_b445_ac2b6e1766e5row1_col3\" class=\"data row1 col3\" >233</td> \n",
       "    </tr>    <tr> \n",
       "        <th id=\"T_6765736c_78be_11e9_b445_ac2b6e1766e5level0_row2\" class=\"row_heading level0 row2\" rowspan=2>male</th> \n",
       "        <th id=\"T_6765736c_78be_11e9_b445_ac2b6e1766e5level1_row2\" class=\"row_heading level1 row2\" >0</th> \n",
       "        <td id=\"T_6765736c_78be_11e9_b445_ac2b6e1766e5row2_col0\" class=\"data row2 col0\" >77</td> \n",
       "        <td id=\"T_6765736c_78be_11e9_b445_ac2b6e1766e5row2_col1\" class=\"data row2 col1\" >91</td> \n",
       "        <td id=\"T_6765736c_78be_11e9_b445_ac2b6e1766e5row2_col2\" class=\"data row2 col2\" >300</td> \n",
       "        <td id=\"T_6765736c_78be_11e9_b445_ac2b6e1766e5row2_col3\" class=\"data row2 col3\" >468</td> \n",
       "    </tr>    <tr> \n",
       "        <th id=\"T_6765736c_78be_11e9_b445_ac2b6e1766e5level1_row3\" class=\"row_heading level1 row3\" >1</th> \n",
       "        <td id=\"T_6765736c_78be_11e9_b445_ac2b6e1766e5row3_col0\" class=\"data row3 col0\" >45</td> \n",
       "        <td id=\"T_6765736c_78be_11e9_b445_ac2b6e1766e5row3_col1\" class=\"data row3 col1\" >17</td> \n",
       "        <td id=\"T_6765736c_78be_11e9_b445_ac2b6e1766e5row3_col2\" class=\"data row3 col2\" >47</td> \n",
       "        <td id=\"T_6765736c_78be_11e9_b445_ac2b6e1766e5row3_col3\" class=\"data row3 col3\" >109</td> \n",
       "    </tr>    <tr> \n",
       "        <th id=\"T_6765736c_78be_11e9_b445_ac2b6e1766e5level0_row4\" class=\"row_heading level0 row4\" >All</th> \n",
       "        <th id=\"T_6765736c_78be_11e9_b445_ac2b6e1766e5level1_row4\" class=\"row_heading level1 row4\" ></th> \n",
       "        <td id=\"T_6765736c_78be_11e9_b445_ac2b6e1766e5row4_col0\" class=\"data row4 col0\" >216</td> \n",
       "        <td id=\"T_6765736c_78be_11e9_b445_ac2b6e1766e5row4_col1\" class=\"data row4 col1\" >184</td> \n",
       "        <td id=\"T_6765736c_78be_11e9_b445_ac2b6e1766e5row4_col2\" class=\"data row4 col2\" >491</td> \n",
       "        <td id=\"T_6765736c_78be_11e9_b445_ac2b6e1766e5row4_col3\" class=\"data row4 col3\" >891</td> \n",
       "    </tr></tbody> \n",
       "</table> "
      ],
      "text/plain": [
       "<pandas.io.formats.style.Styler at 0x1c52c73ccf8>"
      ]
     },
     "execution_count": 11,
     "metadata": {},
     "output_type": "execute_result"
    }
   ],
   "source": [
    "pd.crosstab([titanic.Sex, titanic.Survived], titanic.Pclass, margins=True).style.background_gradient(cmap='summer_r')"
   ]
  },
  {
   "cell_type": "code",
   "execution_count": 12,
   "metadata": {},
   "outputs": [
    {
     "name": "stderr",
     "output_type": "stream",
     "text": [
      "C:\\Users\\SHIVAM\\Anaconda3\\lib\\site-packages\\scipy\\stats\\stats.py:1713: FutureWarning: Using a non-tuple sequence for multidimensional indexing is deprecated; use `arr[tuple(seq)]` instead of `arr[seq]`. In the future this will be interpreted as an array index, `arr[np.array(seq)]`, which will result either in an error or a different result.\n",
      "  return np.add.reduce(sorted[indexer] * weights, axis=axis) / sumval\n"
     ]
    },
    {
     "data": {
      "image/png": "[encoded data removed]",
      "text/plain": [
       "<Figure size 432.85x360 with 1 Axes>"
      ]
     },
     "metadata": {},
     "output_type": "display_data"
    }
   ],
   "source": [
    "sns.catplot('Pclass', 'Survived', hue='Sex', data=titanic, kind='bar')\n",
    "plt.title('Pclass vs Survived vs Sex')\n",
    "plt.show()"
   ]
  },
  {
   "cell_type": "markdown",
   "metadata": {},
   "source": [
    "Now, in Age feature we have 177 null values filled with NaN. We have to deal with it. But we can't enter mean of age in every NaN column, because our average/mean is 29 and we cannot put 29 for a child or some old man. So we have to discover something better. Let's do something more interesting with dataset by exploring more.\n",
    "The 'Name' feature looks interesting. Let's check it...."
   ]
  },
  {
   "cell_type": "code",
   "execution_count": 13,
   "metadata": {},
   "outputs": [],
   "source": [
    "titanic['Initial'] = 0\n",
    "for row in titanic:\n",
    "    titanic['Initial'] = titanic['Name'].str.extract('([A-Za-z]+)\\.')"
   ]
  },
  {
   "cell_type": "code",
   "execution_count": 14,
   "metadata": {},
   "outputs": [
    {
     "data": {
      "text/html": [
       "<style  type=\"text/css\" >\n",
       "    #T_67d04868_78be_11e9_8459_ac2b6e1766e5row0_col0 {\n",
       "            background-color:  #ffff66;\n",
       "        }    #T_67d04868_78be_11e9_8459_ac2b6e1766e5row0_col1 {\n",
       "            background-color:  #ffff66;\n",
       "        }    #T_67d04868_78be_11e9_8459_ac2b6e1766e5row0_col2 {\n",
       "            background-color:  #008066;\n",
       "        }    #T_67d04868_78be_11e9_8459_ac2b6e1766e5row0_col3 {\n",
       "            background-color:  #ffff66;\n",
       "        }    #T_67d04868_78be_11e9_8459_ac2b6e1766e5row0_col4 {\n",
       "            background-color:  #ffff66;\n",
       "        }    #T_67d04868_78be_11e9_8459_ac2b6e1766e5row0_col5 {\n",
       "            background-color:  #ffff66;\n",
       "        }    #T_67d04868_78be_11e9_8459_ac2b6e1766e5row0_col6 {\n",
       "            background-color:  #008066;\n",
       "        }    #T_67d04868_78be_11e9_8459_ac2b6e1766e5row0_col7 {\n",
       "            background-color:  #ffff66;\n",
       "        }    #T_67d04868_78be_11e9_8459_ac2b6e1766e5row0_col8 {\n",
       "            background-color:  #ffff66;\n",
       "        }    #T_67d04868_78be_11e9_8459_ac2b6e1766e5row0_col9 {\n",
       "            background-color:  #008066;\n",
       "        }    #T_67d04868_78be_11e9_8459_ac2b6e1766e5row0_col10 {\n",
       "            background-color:  #008066;\n",
       "        }    #T_67d04868_78be_11e9_8459_ac2b6e1766e5row0_col11 {\n",
       "            background-color:  #008066;\n",
       "        }    #T_67d04868_78be_11e9_8459_ac2b6e1766e5row0_col12 {\n",
       "            background-color:  #ffff66;\n",
       "        }    #T_67d04868_78be_11e9_8459_ac2b6e1766e5row0_col13 {\n",
       "            background-color:  #008066;\n",
       "        }    #T_67d04868_78be_11e9_8459_ac2b6e1766e5row0_col14 {\n",
       "            background-color:  #008066;\n",
       "        }    #T_67d04868_78be_11e9_8459_ac2b6e1766e5row0_col15 {\n",
       "            background-color:  #ffff66;\n",
       "        }    #T_67d04868_78be_11e9_8459_ac2b6e1766e5row0_col16 {\n",
       "            background-color:  #ffff66;\n",
       "        }    #T_67d04868_78be_11e9_8459_ac2b6e1766e5row1_col0 {\n",
       "            background-color:  #008066;\n",
       "        }    #T_67d04868_78be_11e9_8459_ac2b6e1766e5row1_col1 {\n",
       "            background-color:  #008066;\n",
       "        }    #T_67d04868_78be_11e9_8459_ac2b6e1766e5row1_col2 {\n",
       "            background-color:  #ffff66;\n",
       "        }    #T_67d04868_78be_11e9_8459_ac2b6e1766e5row1_col3 {\n",
       "            background-color:  #008066;\n",
       "        }    #T_67d04868_78be_11e9_8459_ac2b6e1766e5row1_col4 {\n",
       "            background-color:  #008066;\n",
       "        }    #T_67d04868_78be_11e9_8459_ac2b6e1766e5row1_col5 {\n",
       "            background-color:  #008066;\n",
       "        }    #T_67d04868_78be_11e9_8459_ac2b6e1766e5row1_col6 {\n",
       "            background-color:  #ffff66;\n",
       "        }    #T_67d04868_78be_11e9_8459_ac2b6e1766e5row1_col7 {\n",
       "            background-color:  #008066;\n",
       "        }    #T_67d04868_78be_11e9_8459_ac2b6e1766e5row1_col8 {\n",
       "            background-color:  #008066;\n",
       "        }    #T_67d04868_78be_11e9_8459_ac2b6e1766e5row1_col9 {\n",
       "            background-color:  #ffff66;\n",
       "        }    #T_67d04868_78be_11e9_8459_ac2b6e1766e5row1_col10 {\n",
       "            background-color:  #ffff66;\n",
       "        }    #T_67d04868_78be_11e9_8459_ac2b6e1766e5row1_col11 {\n",
       "            background-color:  #ffff66;\n",
       "        }    #T_67d04868_78be_11e9_8459_ac2b6e1766e5row1_col12 {\n",
       "            background-color:  #008066;\n",
       "        }    #T_67d04868_78be_11e9_8459_ac2b6e1766e5row1_col13 {\n",
       "            background-color:  #ffff66;\n",
       "        }    #T_67d04868_78be_11e9_8459_ac2b6e1766e5row1_col14 {\n",
       "            background-color:  #ffff66;\n",
       "        }    #T_67d04868_78be_11e9_8459_ac2b6e1766e5row1_col15 {\n",
       "            background-color:  #008066;\n",
       "        }    #T_67d04868_78be_11e9_8459_ac2b6e1766e5row1_col16 {\n",
       "            background-color:  #008066;\n",
       "        }</style>  \n",
       "<table id=\"T_67d04868_78be_11e9_8459_ac2b6e1766e5\" > \n",
       "<thead>    <tr> \n",
       "        <th class=\"index_name level0\" >Initial</th> \n",
       "        <th class=\"col_heading level0 col0\" >Capt</th> \n",
       "        <th class=\"col_heading level0 col1\" >Col</th> \n",
       "        <th class=\"col_heading level0 col2\" >Countess</th> \n",
       "        <th class=\"col_heading level0 col3\" >Don</th> \n",
       "        <th class=\"col_heading level0 col4\" >Dr</th> \n",
       "        <th class=\"col_heading level0 col5\" >Jonkheer</th> \n",
       "        <th class=\"col_heading level0 col6\" >Lady</th> \n",
       "        <th class=\"col_heading level0 col7\" >Major</th> \n",
       "        <th class=\"col_heading level0 col8\" >Master</th> \n",
       "        <th class=\"col_heading level0 col9\" >Miss</th> \n",
       "        <th class=\"col_heading level0 col10\" >Mlle</th> \n",
       "        <th class=\"col_heading level0 col11\" >Mme</th> \n",
       "        <th class=\"col_heading level0 col12\" >Mr</th> \n",
       "        <th class=\"col_heading level0 col13\" >Mrs</th> \n",
       "        <th class=\"col_heading level0 col14\" >Ms</th> \n",
       "        <th class=\"col_heading level0 col15\" >Rev</th> \n",
       "        <th class=\"col_heading level0 col16\" >Sir</th> \n",
       "    </tr>    <tr> \n",
       "        <th class=\"index_name level0\" >Sex</th> \n",
       "        <th class=\"blank\" ></th> \n",
       "        <th class=\"blank\" ></th> \n",
       "        <th class=\"blank\" ></th> \n",
       "        <th class=\"blank\" ></th> \n",
       "        <th class=\"blank\" ></th> \n",
       "        <th class=\"blank\" ></th> \n",
       "        <th class=\"blank\" ></th> \n",
       "        <th class=\"blank\" ></th> \n",
       "        <th class=\"blank\" ></th> \n",
       "        <th class=\"blank\" ></th> \n",
       "        <th class=\"blank\" ></th> \n",
       "        <th class=\"blank\" ></th> \n",
       "        <th class=\"blank\" ></th> \n",
       "        <th class=\"blank\" ></th> \n",
       "        <th class=\"blank\" ></th> \n",
       "        <th class=\"blank\" ></th> \n",
       "        <th class=\"blank\" ></th> \n",
       "    </tr></thead> \n",
       "<tbody>    <tr> \n",
       "        <th id=\"T_67d04868_78be_11e9_8459_ac2b6e1766e5level0_row0\" class=\"row_heading level0 row0\" >female</th> \n",
       "        <td id=\"T_67d04868_78be_11e9_8459_ac2b6e1766e5row0_col0\" class=\"data row0 col0\" >0</td> \n",
       "        <td id=\"T_67d04868_78be_11e9_8459_ac2b6e1766e5row0_col1\" class=\"data row0 col1\" >0</td> \n",
       "        <td id=\"T_67d04868_78be_11e9_8459_ac2b6e1766e5row0_col2\" class=\"data row0 col2\" >1</td> \n",
       "        <td id=\"T_67d04868_78be_11e9_8459_ac2b6e1766e5row0_col3\" class=\"data row0 col3\" >0</td> \n",
       "        <td id=\"T_67d04868_78be_11e9_8459_ac2b6e1766e5row0_col4\" class=\"data row0 col4\" >1</td> \n",
       "        <td id=\"T_67d04868_78be_11e9_8459_ac2b6e1766e5row0_col5\" class=\"data row0 col5\" >0</td> \n",
       "        <td id=\"T_67d04868_78be_11e9_8459_ac2b6e1766e5row0_col6\" class=\"data row0 col6\" >1</td> \n",
       "        <td id=\"T_67d04868_78be_11e9_8459_ac2b6e1766e5row0_col7\" class=\"data row0 col7\" >0</td> \n",
       "        <td id=\"T_67d04868_78be_11e9_8459_ac2b6e1766e5row0_col8\" class=\"data row0 col8\" >0</td> \n",
       "        <td id=\"T_67d04868_78be_11e9_8459_ac2b6e1766e5row0_col9\" class=\"data row0 col9\" >182</td> \n",
       "        <td id=\"T_67d04868_78be_11e9_8459_ac2b6e1766e5row0_col10\" class=\"data row0 col10\" >2</td> \n",
       "        <td id=\"T_67d04868_78be_11e9_8459_ac2b6e1766e5row0_col11\" class=\"data row0 col11\" >1</td> \n",
       "        <td id=\"T_67d04868_78be_11e9_8459_ac2b6e1766e5row0_col12\" class=\"data row0 col12\" >0</td> \n",
       "        <td id=\"T_67d04868_78be_11e9_8459_ac2b6e1766e5row0_col13\" class=\"data row0 col13\" >125</td> \n",
       "        <td id=\"T_67d04868_78be_11e9_8459_ac2b6e1766e5row0_col14\" class=\"data row0 col14\" >1</td> \n",
       "        <td id=\"T_67d04868_78be_11e9_8459_ac2b6e1766e5row0_col15\" class=\"data row0 col15\" >0</td> \n",
       "        <td id=\"T_67d04868_78be_11e9_8459_ac2b6e1766e5row0_col16\" class=\"data row0 col16\" >0</td> \n",
       "    </tr>    <tr> \n",
       "        <th id=\"T_67d04868_78be_11e9_8459_ac2b6e1766e5level0_row1\" class=\"row_heading level0 row1\" >male</th> \n",
       "        <td id=\"T_67d04868_78be_11e9_8459_ac2b6e1766e5row1_col0\" class=\"data row1 col0\" >1</td> \n",
       "        <td id=\"T_67d04868_78be_11e9_8459_ac2b6e1766e5row1_col1\" class=\"data row1 col1\" >2</td> \n",
       "        <td id=\"T_67d04868_78be_11e9_8459_ac2b6e1766e5row1_col2\" class=\"data row1 col2\" >0</td> \n",
       "        <td id=\"T_67d04868_78be_11e9_8459_ac2b6e1766e5row1_col3\" class=\"data row1 col3\" >1</td> \n",
       "        <td id=\"T_67d04868_78be_11e9_8459_ac2b6e1766e5row1_col4\" class=\"data row1 col4\" >6</td> \n",
       "        <td id=\"T_67d04868_78be_11e9_8459_ac2b6e1766e5row1_col5\" class=\"data row1 col5\" >1</td> \n",
       "        <td id=\"T_67d04868_78be_11e9_8459_ac2b6e1766e5row1_col6\" class=\"data row1 col6\" >0</td> \n",
       "        <td id=\"T_67d04868_78be_11e9_8459_ac2b6e1766e5row1_col7\" class=\"data row1 col7\" >2</td> \n",
       "        <td id=\"T_67d04868_78be_11e9_8459_ac2b6e1766e5row1_col8\" class=\"data row1 col8\" >40</td> \n",
       "        <td id=\"T_67d04868_78be_11e9_8459_ac2b6e1766e5row1_col9\" class=\"data row1 col9\" >0</td> \n",
       "        <td id=\"T_67d04868_78be_11e9_8459_ac2b6e1766e5row1_col10\" class=\"data row1 col10\" >0</td> \n",
       "        <td id=\"T_67d04868_78be_11e9_8459_ac2b6e1766e5row1_col11\" class=\"data row1 col11\" >0</td> \n",
       "        <td id=\"T_67d04868_78be_11e9_8459_ac2b6e1766e5row1_col12\" class=\"data row1 col12\" >517</td> \n",
       "        <td id=\"T_67d04868_78be_11e9_8459_ac2b6e1766e5row1_col13\" class=\"data row1 col13\" >0</td> \n",
       "        <td id=\"T_67d04868_78be_11e9_8459_ac2b6e1766e5row1_col14\" class=\"data row1 col14\" >0</td> \n",
       "        <td id=\"T_67d04868_78be_11e9_8459_ac2b6e1766e5row1_col15\" class=\"data row1 col15\" >6</td> \n",
       "        <td id=\"T_67d04868_78be_11e9_8459_ac2b6e1766e5row1_col16\" class=\"data row1 col16\" >1</td> \n",
       "    </tr></tbody> \n",
       "</table> "
      ],
      "text/plain": [
       "<pandas.io.formats.style.Styler at 0x1c52c731128>"
      ]
     },
     "execution_count": 14,
     "metadata": {},
     "output_type": "execute_result"
    }
   ],
   "source": [
    "pd.crosstab(titanic['Sex'], titanic['Initial']).style.background_gradient(cmap='summer_r')"
   ]
  },
  {
   "cell_type": "markdown",
   "metadata": {},
   "source": [
    "There are many Initials but they all refer to the basic set of Mr, Mrs, Master Ans Miss.\n",
    "Hence, we can replace them with mean age of respective Initial"
   ]
  },
  {
   "cell_type": "code",
   "execution_count": 15,
   "metadata": {},
   "outputs": [],
   "source": [
    "titanic['Initial'].replace(['Capt', 'Col', 'Countess', 'Don', 'Dr', 'Jonkheer', 'Lady', 'Major', 'Mlle', 'Mme', 'Ms', 'Rev', 'Sir'],\n",
    "                           ['Mr', 'Mr', 'Mrs', 'Mr', 'Other', 'Mr', 'Mrs', 'Mr', 'Mrs', 'Mrs', 'Miss', 'Other', 'Mr'], inplace=True)"
   ]
  },
  {
   "cell_type": "code",
   "execution_count": 16,
   "metadata": {},
   "outputs": [
    {
     "data": {
      "text/plain": [
       "Initial  Sex   \n",
       "Master   male       7.086662\n",
       "Miss     female    23.367040\n",
       "Mr       male      32.050848\n",
       "Mrs      female    34.883731\n",
       "Other    female    49.000000\n",
       "         male      40.974926\n",
       "Name: Age, dtype: float64"
      ]
     },
     "execution_count": 16,
     "metadata": {},
     "output_type": "execute_result"
    }
   ],
   "source": [
    "titanic.groupby(['Initial', 'Sex']).mean()['Age']"
   ]
  },
  {
   "cell_type": "code",
   "execution_count": 17,
   "metadata": {},
   "outputs": [],
   "source": [
    "titanic.loc[(titanic.Age.isnull()) & (titanic.Initial=='Mr'), 'Age'] = 32\n",
    "titanic.loc[(titanic.Age.isnull()) & (titanic.Initial=='Mrs'), 'Age'] = 35\n",
    "titanic.loc[(titanic.Age.isnull()) & (titanic.Initial=='Master'), 'Age'] = 7\n",
    "titanic.loc[(titanic.Age.isnull()) & (titanic.Initial=='Miss'), 'Age'] = 23"
   ]
  },
  {
   "cell_type": "code",
   "execution_count": 18,
   "metadata": {},
   "outputs": [
    {
     "data": {
      "text/plain": [
       "False"
      ]
     },
     "execution_count": 18,
     "metadata": {},
     "output_type": "execute_result"
    }
   ],
   "source": [
    "titanic.Age.isnull().any()"
   ]
  },
  {
   "cell_type": "code",
   "execution_count": 19,
   "metadata": {},
   "outputs": [
    {
     "name": "stderr",
     "output_type": "stream",
     "text": [
      "C:\\Users\\SHIVAM\\Anaconda3\\lib\\site-packages\\scipy\\stats\\stats.py:1713: FutureWarning: Using a non-tuple sequence for multidimensional indexing is deprecated; use `arr[tuple(seq)]` instead of `arr[seq]`. In the future this will be interpreted as an array index, `arr[np.array(seq)]`, which will result either in an error or a different result.\n",
      "  return np.add.reduce(sorted[indexer] * weights, axis=axis) / sumval\n"
     ]
    },
    {
     "data": {
      "image/png": "[encoded data removed]",
      "text/plain": [
       "<Figure size 1800x360 with 5 Axes>"
      ]
     },
     "metadata": {},
     "output_type": "display_data"
    }
   ],
   "source": [
    "sns.catplot('Pclass', 'Survived', col='Initial', data=titanic, kind='point')\n",
    "plt.show()"
   ]
  },
  {
   "cell_type": "markdown",
   "metadata": {},
   "source": [
    "From the above plot it is seen that women and children were rescued first irrespective of the class. Now lets explore other features."
   ]
  },
  {
   "cell_type": "code",
   "execution_count": 20,
   "metadata": {},
   "outputs": [
    {
     "data": {
      "text/html": [
       "<style  type=\"text/css\" >\n",
       "    #T_68af0fb0_78be_11e9_870b_ac2b6e1766e5row0_col0 {\n",
       "            background-color:  #008066;\n",
       "        }    #T_68af0fb0_78be_11e9_870b_ac2b6e1766e5row0_col1 {\n",
       "            background-color:  #008066;\n",
       "        }    #T_68af0fb0_78be_11e9_870b_ac2b6e1766e5row1_col0 {\n",
       "            background-color:  #c4e266;\n",
       "        }    #T_68af0fb0_78be_11e9_870b_ac2b6e1766e5row1_col1 {\n",
       "            background-color:  #77bb66;\n",
       "        }    #T_68af0fb0_78be_11e9_870b_ac2b6e1766e5row2_col0 {\n",
       "            background-color:  #f9fc66;\n",
       "        }    #T_68af0fb0_78be_11e9_870b_ac2b6e1766e5row2_col1 {\n",
       "            background-color:  #f0f866;\n",
       "        }    #T_68af0fb0_78be_11e9_870b_ac2b6e1766e5row3_col0 {\n",
       "            background-color:  #fbfd66;\n",
       "        }    #T_68af0fb0_78be_11e9_870b_ac2b6e1766e5row3_col1 {\n",
       "            background-color:  #fbfd66;\n",
       "        }    #T_68af0fb0_78be_11e9_870b_ac2b6e1766e5row4_col0 {\n",
       "            background-color:  #f9fc66;\n",
       "        }    #T_68af0fb0_78be_11e9_870b_ac2b6e1766e5row4_col1 {\n",
       "            background-color:  #fcfe66;\n",
       "        }    #T_68af0fb0_78be_11e9_870b_ac2b6e1766e5row5_col0 {\n",
       "            background-color:  #ffff66;\n",
       "        }    #T_68af0fb0_78be_11e9_870b_ac2b6e1766e5row5_col1 {\n",
       "            background-color:  #ffff66;\n",
       "        }    #T_68af0fb0_78be_11e9_870b_ac2b6e1766e5row6_col0 {\n",
       "            background-color:  #fefe66;\n",
       "        }    #T_68af0fb0_78be_11e9_870b_ac2b6e1766e5row6_col1 {\n",
       "            background-color:  #ffff66;\n",
       "        }</style>  \n",
       "<table id=\"T_68af0fb0_78be_11e9_870b_ac2b6e1766e5\" > \n",
       "<thead>    <tr> \n",
       "        <th class=\"index_name level0\" >Survived</th> \n",
       "        <th class=\"col_heading level0 col0\" >0</th> \n",
       "        <th class=\"col_heading level0 col1\" >1</th> \n",
       "    </tr>    <tr> \n",
       "        <th class=\"index_name level0\" >SibSp</th> \n",
       "        <th class=\"blank\" ></th> \n",
       "        <th class=\"blank\" ></th> \n",
       "    </tr></thead> \n",
       "<tbody>    <tr> \n",
       "        <th id=\"T_68af0fb0_78be_11e9_870b_ac2b6e1766e5level0_row0\" class=\"row_heading level0 row0\" >0</th> \n",
       "        <td id=\"T_68af0fb0_78be_11e9_870b_ac2b6e1766e5row0_col0\" class=\"data row0 col0\" >398</td> \n",
       "        <td id=\"T_68af0fb0_78be_11e9_870b_ac2b6e1766e5row0_col1\" class=\"data row0 col1\" >210</td> \n",
       "    </tr>    <tr> \n",
       "        <th id=\"T_68af0fb0_78be_11e9_870b_ac2b6e1766e5level0_row1\" class=\"row_heading level0 row1\" >1</th> \n",
       "        <td id=\"T_68af0fb0_78be_11e9_870b_ac2b6e1766e5row1_col0\" class=\"data row1 col0\" >97</td> \n",
       "        <td id=\"T_68af0fb0_78be_11e9_870b_ac2b6e1766e5row1_col1\" class=\"data row1 col1\" >112</td> \n",
       "    </tr>    <tr> \n",
       "        <th id=\"T_68af0fb0_78be_11e9_870b_ac2b6e1766e5level0_row2\" class=\"row_heading level0 row2\" >2</th> \n",
       "        <td id=\"T_68af0fb0_78be_11e9_870b_ac2b6e1766e5row2_col0\" class=\"data row2 col0\" >15</td> \n",
       "        <td id=\"T_68af0fb0_78be_11e9_870b_ac2b6e1766e5row2_col1\" class=\"data row2 col1\" >13</td> \n",
       "    </tr>    <tr> \n",
       "        <th id=\"T_68af0fb0_78be_11e9_870b_ac2b6e1766e5level0_row3\" class=\"row_heading level0 row3\" >3</th> \n",
       "        <td id=\"T_68af0fb0_78be_11e9_870b_ac2b6e1766e5row3_col0\" class=\"data row3 col0\" >12</td> \n",
       "        <td id=\"T_68af0fb0_78be_11e9_870b_ac2b6e1766e5row3_col1\" class=\"data row3 col1\" >4</td> \n",
       "    </tr>    <tr> \n",
       "        <th id=\"T_68af0fb0_78be_11e9_870b_ac2b6e1766e5level0_row4\" class=\"row_heading level0 row4\" >4</th> \n",
       "        <td id=\"T_68af0fb0_78be_11e9_870b_ac2b6e1766e5row4_col0\" class=\"data row4 col0\" >15</td> \n",
       "        <td id=\"T_68af0fb0_78be_11e9_870b_ac2b6e1766e5row4_col1\" class=\"data row4 col1\" >3</td> \n",
       "    </tr>    <tr> \n",
       "        <th id=\"T_68af0fb0_78be_11e9_870b_ac2b6e1766e5level0_row5\" class=\"row_heading level0 row5\" >5</th> \n",
       "        <td id=\"T_68af0fb0_78be_11e9_870b_ac2b6e1766e5row5_col0\" class=\"data row5 col0\" >5</td> \n",
       "        <td id=\"T_68af0fb0_78be_11e9_870b_ac2b6e1766e5row5_col1\" class=\"data row5 col1\" >0</td> \n",
       "    </tr>    <tr> \n",
       "        <th id=\"T_68af0fb0_78be_11e9_870b_ac2b6e1766e5level0_row6\" class=\"row_heading level0 row6\" >8</th> \n",
       "        <td id=\"T_68af0fb0_78be_11e9_870b_ac2b6e1766e5row6_col0\" class=\"data row6 col0\" >7</td> \n",
       "        <td id=\"T_68af0fb0_78be_11e9_870b_ac2b6e1766e5row6_col1\" class=\"data row6 col1\" >0</td> \n",
       "    </tr></tbody> \n",
       "</table> "
      ],
      "text/plain": [
       "<pandas.io.formats.style.Styler at 0x1c52cd9b898>"
      ]
     },
     "execution_count": 20,
     "metadata": {},
     "output_type": "execute_result"
    }
   ],
   "source": [
    "pd.crosstab(titanic['SibSp'], titanic['Survived']).style.background_gradient(cmap='summer_r')"
   ]
  },
  {
   "cell_type": "code",
   "execution_count": 21,
   "metadata": {},
   "outputs": [
    {
     "name": "stderr",
     "output_type": "stream",
     "text": [
      "C:\\Users\\SHIVAM\\Anaconda3\\lib\\site-packages\\scipy\\stats\\stats.py:1713: FutureWarning: Using a non-tuple sequence for multidimensional indexing is deprecated; use `arr[tuple(seq)]` instead of `arr[seq]`. In the future this will be interpreted as an array index, `arr[np.array(seq)]`, which will result either in an error or a different result.\n",
      "  return np.add.reduce(sorted[indexer] * weights, axis=axis) / sumval\n"
     ]
    },
    {
     "data": {
      "image/png": "[encoded data removed]",
      "text/plain": [
       "<Figure size 432x288 with 1 Axes>"
      ]
     },
     "metadata": {},
     "output_type": "display_data"
    }
   ],
   "source": [
    "sns.barplot(x='SibSp', y='Survived', data=titanic)\n",
    "plt.title('SibSp vs Survived')\n",
    "plt.show()"
   ]
  },
  {
   "cell_type": "code",
   "execution_count": 22,
   "metadata": {},
   "outputs": [
    {
     "data": {
      "text/html": [
       "<style  type=\"text/css\" >\n",
       "    #T_68fbf72e_78be_11e9_842d_ac2b6e1766e5row0_col0 {\n",
       "            background-color:  #008066;\n",
       "        }    #T_68fbf72e_78be_11e9_842d_ac2b6e1766e5row0_col1 {\n",
       "            background-color:  #008066;\n",
       "        }    #T_68fbf72e_78be_11e9_842d_ac2b6e1766e5row0_col2 {\n",
       "            background-color:  #008066;\n",
       "        }    #T_68fbf72e_78be_11e9_842d_ac2b6e1766e5row1_col0 {\n",
       "            background-color:  #7bbd66;\n",
       "        }    #T_68fbf72e_78be_11e9_842d_ac2b6e1766e5row1_col1 {\n",
       "            background-color:  #8ac466;\n",
       "        }    #T_68fbf72e_78be_11e9_842d_ac2b6e1766e5row1_col2 {\n",
       "            background-color:  #c6e266;\n",
       "        }    #T_68fbf72e_78be_11e9_842d_ac2b6e1766e5row2_col0 {\n",
       "            background-color:  #f6fa66;\n",
       "        }    #T_68fbf72e_78be_11e9_842d_ac2b6e1766e5row2_col1 {\n",
       "            background-color:  #eef666;\n",
       "        }    #T_68fbf72e_78be_11e9_842d_ac2b6e1766e5row2_col2 {\n",
       "            background-color:  #f8fc66;\n",
       "        }    #T_68fbf72e_78be_11e9_842d_ac2b6e1766e5row3_col0 {\n",
       "            background-color:  #fafc66;\n",
       "        }    #T_68fbf72e_78be_11e9_842d_ac2b6e1766e5row3_col1 {\n",
       "            background-color:  #fdfe66;\n",
       "        }    #T_68fbf72e_78be_11e9_842d_ac2b6e1766e5row3_col2 {\n",
       "            background-color:  #fafc66;\n",
       "        }    #T_68fbf72e_78be_11e9_842d_ac2b6e1766e5row4_col0 {\n",
       "            background-color:  #ffff66;\n",
       "        }    #T_68fbf72e_78be_11e9_842d_ac2b6e1766e5row4_col1 {\n",
       "            background-color:  #ffff66;\n",
       "        }    #T_68fbf72e_78be_11e9_842d_ac2b6e1766e5row4_col2 {\n",
       "            background-color:  #f6fa66;\n",
       "        }    #T_68fbf72e_78be_11e9_842d_ac2b6e1766e5row5_col0 {\n",
       "            background-color:  #ffff66;\n",
       "        }    #T_68fbf72e_78be_11e9_842d_ac2b6e1766e5row5_col1 {\n",
       "            background-color:  #ffff66;\n",
       "        }    #T_68fbf72e_78be_11e9_842d_ac2b6e1766e5row5_col2 {\n",
       "            background-color:  #ffff66;\n",
       "        }    #T_68fbf72e_78be_11e9_842d_ac2b6e1766e5row6_col0 {\n",
       "            background-color:  #ffff66;\n",
       "        }    #T_68fbf72e_78be_11e9_842d_ac2b6e1766e5row6_col1 {\n",
       "            background-color:  #ffff66;\n",
       "        }    #T_68fbf72e_78be_11e9_842d_ac2b6e1766e5row6_col2 {\n",
       "            background-color:  #fefe66;\n",
       "        }</style>  \n",
       "<table id=\"T_68fbf72e_78be_11e9_842d_ac2b6e1766e5\" > \n",
       "<thead>    <tr> \n",
       "        <th class=\"index_name level0\" >Pclass</th> \n",
       "        <th class=\"col_heading level0 col0\" >1</th> \n",
       "        <th class=\"col_heading level0 col1\" >2</th> \n",
       "        <th class=\"col_heading level0 col2\" >3</th> \n",
       "    </tr>    <tr> \n",
       "        <th class=\"index_name level0\" >SibSp</th> \n",
       "        <th class=\"blank\" ></th> \n",
       "        <th class=\"blank\" ></th> \n",
       "        <th class=\"blank\" ></th> \n",
       "    </tr></thead> \n",
       "<tbody>    <tr> \n",
       "        <th id=\"T_68fbf72e_78be_11e9_842d_ac2b6e1766e5level0_row0\" class=\"row_heading level0 row0\" >0</th> \n",
       "        <td id=\"T_68fbf72e_78be_11e9_842d_ac2b6e1766e5row0_col0\" class=\"data row0 col0\" >137</td> \n",
       "        <td id=\"T_68fbf72e_78be_11e9_842d_ac2b6e1766e5row0_col1\" class=\"data row0 col1\" >120</td> \n",
       "        <td id=\"T_68fbf72e_78be_11e9_842d_ac2b6e1766e5row0_col2\" class=\"data row0 col2\" >351</td> \n",
       "    </tr>    <tr> \n",
       "        <th id=\"T_68fbf72e_78be_11e9_842d_ac2b6e1766e5level0_row1\" class=\"row_heading level0 row1\" >1</th> \n",
       "        <td id=\"T_68fbf72e_78be_11e9_842d_ac2b6e1766e5row1_col0\" class=\"data row1 col0\" >71</td> \n",
       "        <td id=\"T_68fbf72e_78be_11e9_842d_ac2b6e1766e5row1_col1\" class=\"data row1 col1\" >55</td> \n",
       "        <td id=\"T_68fbf72e_78be_11e9_842d_ac2b6e1766e5row1_col2\" class=\"data row1 col2\" >83</td> \n",
       "    </tr>    <tr> \n",
       "        <th id=\"T_68fbf72e_78be_11e9_842d_ac2b6e1766e5level0_row2\" class=\"row_heading level0 row2\" >2</th> \n",
       "        <td id=\"T_68fbf72e_78be_11e9_842d_ac2b6e1766e5row2_col0\" class=\"data row2 col0\" >5</td> \n",
       "        <td id=\"T_68fbf72e_78be_11e9_842d_ac2b6e1766e5row2_col1\" class=\"data row2 col1\" >8</td> \n",
       "        <td id=\"T_68fbf72e_78be_11e9_842d_ac2b6e1766e5row2_col2\" class=\"data row2 col2\" >15</td> \n",
       "    </tr>    <tr> \n",
       "        <th id=\"T_68fbf72e_78be_11e9_842d_ac2b6e1766e5level0_row3\" class=\"row_heading level0 row3\" >3</th> \n",
       "        <td id=\"T_68fbf72e_78be_11e9_842d_ac2b6e1766e5row3_col0\" class=\"data row3 col0\" >3</td> \n",
       "        <td id=\"T_68fbf72e_78be_11e9_842d_ac2b6e1766e5row3_col1\" class=\"data row3 col1\" >1</td> \n",
       "        <td id=\"T_68fbf72e_78be_11e9_842d_ac2b6e1766e5row3_col2\" class=\"data row3 col2\" >12</td> \n",
       "    </tr>    <tr> \n",
       "        <th id=\"T_68fbf72e_78be_11e9_842d_ac2b6e1766e5level0_row4\" class=\"row_heading level0 row4\" >4</th> \n",
       "        <td id=\"T_68fbf72e_78be_11e9_842d_ac2b6e1766e5row4_col0\" class=\"data row4 col0\" >0</td> \n",
       "        <td id=\"T_68fbf72e_78be_11e9_842d_ac2b6e1766e5row4_col1\" class=\"data row4 col1\" >0</td> \n",
       "        <td id=\"T_68fbf72e_78be_11e9_842d_ac2b6e1766e5row4_col2\" class=\"data row4 col2\" >18</td> \n",
       "    </tr>    <tr> \n",
       "        <th id=\"T_68fbf72e_78be_11e9_842d_ac2b6e1766e5level0_row5\" class=\"row_heading level0 row5\" >5</th> \n",
       "        <td id=\"T_68fbf72e_78be_11e9_842d_ac2b6e1766e5row5_col0\" class=\"data row5 col0\" >0</td> \n",
       "        <td id=\"T_68fbf72e_78be_11e9_842d_ac2b6e1766e5row5_col1\" class=\"data row5 col1\" >0</td> \n",
       "        <td id=\"T_68fbf72e_78be_11e9_842d_ac2b6e1766e5row5_col2\" class=\"data row5 col2\" >5</td> \n",
       "    </tr>    <tr> \n",
       "        <th id=\"T_68fbf72e_78be_11e9_842d_ac2b6e1766e5level0_row6\" class=\"row_heading level0 row6\" >8</th> \n",
       "        <td id=\"T_68fbf72e_78be_11e9_842d_ac2b6e1766e5row6_col0\" class=\"data row6 col0\" >0</td> \n",
       "        <td id=\"T_68fbf72e_78be_11e9_842d_ac2b6e1766e5row6_col1\" class=\"data row6 col1\" >0</td> \n",
       "        <td id=\"T_68fbf72e_78be_11e9_842d_ac2b6e1766e5row6_col2\" class=\"data row6 col2\" >7</td> \n",
       "    </tr></tbody> \n",
       "</table> "
      ],
      "text/plain": [
       "<pandas.io.formats.style.Styler at 0x1c52c678cf8>"
      ]
     },
     "execution_count": 22,
     "metadata": {},
     "output_type": "execute_result"
    }
   ],
   "source": [
    "pd.crosstab(titanic.SibSp, titanic.Pclass).style.background_gradient(cmap='summer_r')"
   ]
  },
  {
   "cell_type": "markdown",
   "metadata": {},
   "source": [
    "We can clearly see that if a passanger is alone in ship with no siblings, survival rate is higher than those having any siblings. The graph decreases as no of siblings increase. This is interesting because, If I have a family onboard, I will save them instead of saving myself. But there’s something wrong, the survival rate for families with 5–8 members is 0%. Is this because of PClass? Yes this is PClass, The crosstab shows that Person with SibSp>3 were all in Pclass3. It is imminent that all the large families in Pclass3(>3) died."
   ]
  }
 ],
 "metadata": {
  "kernelspec": {
   "display_name": "Python 3",
   "language": "python",
   "name": "python3"
  },
  "language_info": {
   "codemirror_mode": {
    "name": "ipython",
    "version": 3
   },
   "file_extension": ".py",
   "mimetype": "text/x-python",
   "name": "python",
   "nbconvert_exporter": "python",
   "pygments_lexer": "ipython3",
   "version": "3.7.0"
  }
 },
 "nbformat": 4,
 "nbformat_minor": 2
}
